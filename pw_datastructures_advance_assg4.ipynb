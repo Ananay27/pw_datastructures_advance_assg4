{
 "cells": [
  {
   "cell_type": "code",
   "execution_count": 2,
   "id": "93dd5cc2-b7c9-47c7-81e6-7b3e2a1b6f3a",
   "metadata": {},
   "outputs": [
    {
     "name": "stdin",
     "output_type": "stream",
     "text": [
      "Write the string:  Ananay\n"
     ]
    },
    {
     "data": {
      "text/plain": [
       "'yananA'"
      ]
     },
     "execution_count": 2,
     "metadata": {},
     "output_type": "execute_result"
    }
   ],
   "source": [
    "#Ques 1: Write a code to reverse a string\n",
    "\n",
    "# Ans 1:\n",
    "def reverse_string(n):\n",
    "    return n[::-1]\n",
    "\n",
    "write_string = input(\"Write the string: \")\n",
    "reverse_string(write_string)"
   ]
  },
  {
   "cell_type": "code",
   "execution_count": 1,
   "id": "4c394601-af82-4dd6-b9de-2f7a3bd21c64",
   "metadata": {},
   "outputs": [
    {
     "name": "stdin",
     "output_type": "stream",
     "text": [
      "Write the string:  Ananay\n"
     ]
    },
    {
     "data": {
      "text/plain": [
       "3"
      ]
     },
     "execution_count": 1,
     "metadata": {},
     "output_type": "execute_result"
    }
   ],
   "source": [
    "# Ques 2: Write a code to count the number of vowels in a string.\n",
    "\n",
    "# Ans 2:\n",
    "def vowel_count(n):\n",
    "    \n",
    "    vowel_a = n.count(\"a\")\n",
    "    vowel_e = n.count(\"e\")\n",
    "    vowel_i = n.count(\"i\")\n",
    "    vowel_o = n.count(\"o\")\n",
    "    vowel_u = n.count(\"u\")\n",
    "    \n",
    "    sum = vowel_a + vowel_e + vowel_i + vowel_o + vowel_u\n",
    "    return sum\n",
    "\n",
    "write_string = input(\"Write the string: \").lower()\n",
    "vowel_count(write_string)"
   ]
  },
  {
   "cell_type": "code",
   "execution_count": 5,
   "id": "30ef949d-20d6-4aeb-80f7-8c5a7c859194",
   "metadata": {},
   "outputs": [
    {
     "name": "stdin",
     "output_type": "stream",
     "text": [
      "Write the string:  ana\n"
     ]
    },
    {
     "name": "stdout",
     "output_type": "stream",
     "text": [
      "It is a plaindrome\n"
     ]
    }
   ],
   "source": [
    "# Ques 3: Write a code to check if a given string is a palindrome or not.\n",
    "\n",
    "# Ans 3:\n",
    "def check_palindrome(n):\n",
    "    reverse_string = n[::-1]\n",
    "\n",
    "    if n == reverse_string:\n",
    "        print(\"It is a plaindrome\")\n",
    "\n",
    "    else:\n",
    "        print(\"It is not a plaindrome\")\n",
    "\n",
    "write_string = input(\"Write the string: \")\n",
    "check_palindrome(write_string)"
   ]
  },
  {
   "cell_type": "code",
   "execution_count": 9,
   "id": "26a05708-309f-44aa-8c2e-1a7b8d394a6c",
   "metadata": {},
   "outputs": [
    {
     "name": "stdin",
     "output_type": "stream",
     "text": [
      "Enter the first string:  Varun\n",
      "Enter the second string:  naruv\n"
     ]
    },
    {
     "name": "stdout",
     "output_type": "stream",
     "text": [
      "The two strings are anagrams.\n"
     ]
    }
   ],
   "source": [
    "# Ques 4: Write a code to check if two given strings are anagrams of each other.\n",
    "\n",
    "# Ans 4:\n",
    "\n",
    "def are_anagrams(str1, str2):\n",
    "   \n",
    "    str1 = str1.replace(\" \", \"\").lower()\n",
    "    str2 = str2.replace(\" \", \"\").lower()\n",
    "    \n",
    "    return sorted(str1) == sorted(str2)\n",
    "\n",
    "\n",
    "string1 = input(\"Enter the first string: \")\n",
    "string2 = input(\"Enter the second string: \")\n",
    "\n",
    "if are_anagrams(string1, string2):\n",
    "    print(\"The two strings are anagrams.\")\n",
    "else:\n",
    "    print(\"The two strings are not anagrams.\")\n",
    "\n"
   ]
  },
  {
   "cell_type": "code",
   "execution_count": 12,
   "id": "bc10f241-ca44-4c98-a2ba-d7c73c935709",
   "metadata": {},
   "outputs": [
    {
     "name": "stdin",
     "output_type": "stream",
     "text": [
      "Enter the string:  Ananay\n",
      "Enter the substring:  an\n"
     ]
    },
    {
     "data": {
      "text/plain": [
       "1"
      ]
     },
     "execution_count": 12,
     "metadata": {},
     "output_type": "execute_result"
    }
   ],
   "source": [
    "# Ques 5: Write a code to find all occurrences of a given substring within another string.\n",
    "\n",
    "# Ans 5:\n",
    "def occurrences_number(str1, str2):\n",
    "\n",
    "    number = str1.count(str2)\n",
    "    return number\n",
    "\n",
    "string = input(\"Enter the string: \")\n",
    "substring = input(\"Enter the substring: \")\n",
    "occurrences_number(string, substring)"
   ]
  },
  {
   "cell_type": "code",
   "execution_count": null,
   "id": "630c1409-a606-4949-9a16-5107d0707fdc",
   "metadata": {},
   "outputs": [],
   "source": [
    "# Ques 6: Write a code to perform basic string compression using the counts of repeated characters.\n",
    "\n",
    "# Ans 6: \n",
    "def compress_string(s):\n",
    "    compressed = []\n",
    "    count = 1\n",
    "    \n",
    "    for i in range(1, len(s)):\n",
    "        if s[i] == s[i - 1]:\n",
    "            count += 1\n",
    "        else:\n",
    "            compressed.append(s[i - 1] + str(count))\n",
    "            count = 1\n",
    "    \n",
    "    compressed.append(s[-1] + str(count))\n",
    "    \n",
    "    compressed_str = ''.join(compressed)\n",
    "    \n",
    "    return compressed_str if len(compressed_str) < len(s) else s\n",
    "\n",
    "s = input(\"Enter the string: \")\n",
    "\n",
    "compressed_s = compress_string(s)\n",
    "\n",
    "print(\"Compressed String:\", compressed_s)"
   ]
  },
  {
   "cell_type": "code",
   "execution_count": 22,
   "id": "d0babafa-1bb3-4ff2-b9c2-b024cc99c149",
   "metadata": {},
   "outputs": [
    {
     "name": "stdin",
     "output_type": "stream",
     "text": [
      "Enter a string:  ananay\n"
     ]
    },
    {
     "name": "stdout",
     "output_type": "stream",
     "text": [
      "No, there are duplicate characters.\n"
     ]
    }
   ],
   "source": [
    "# Ques 7: Write a code to determine if a string has all unique characters.\n",
    "\n",
    "# Ans 7:\n",
    "\n",
    "def check_unique(str):\n",
    "    empty_set = set()  \n",
    "    for i in str:\n",
    "        empty_set.add(i)  \n",
    "    \n",
    "    return len(empty_set) == len(str)\n",
    "\n",
    "input_string = input(\"Enter a string: \")\n",
    "\n",
    "if check_unique(input_string):\n",
    "    print(\"Yes, all characters are unique.\")\n",
    "else:\n",
    "    print(\"No, there are duplicate characters.\")\n"
   ]
  },
  {
   "cell_type": "code",
   "execution_count": 27,
   "id": "7b63e972-20f7-48ca-90e7-57b2cff4fb0e",
   "metadata": {},
   "outputs": [
    {
     "name": "stdin",
     "output_type": "stream",
     "text": [
      "Input a string:  Ananay\n",
      "Do you want to convert the string to uppercase or lowercase (u/l)?  k\n"
     ]
    },
    {
     "name": "stdout",
     "output_type": "stream",
     "text": [
      "Invalid Input\n"
     ]
    }
   ],
   "source": [
    "# Ques 8: Write a code to convert a given string to uppercase or lowercase\n",
    "\n",
    "# Ans 8:\n",
    "\n",
    "input_string = input(\"Input a string: \")\n",
    "case_decision = input(\"Do you want to convert the string to uppercase or lowercase (u/l)? \").lower()\n",
    "\n",
    "if case_decision == \"u\":\n",
    "    print(input_string.upper())\n",
    "\n",
    "elif case_decision == \"l\":\n",
    "    print(input_string.lower())\n",
    "\n",
    "else:\n",
    "    print(\"Invalid Input\")"
   ]
  },
  {
   "cell_type": "code",
   "execution_count": 28,
   "id": "37e1150f-d188-4aef-974f-7803c6fdabba",
   "metadata": {},
   "outputs": [
    {
     "name": "stdin",
     "output_type": "stream",
     "text": [
      "Enter a string:  i love to travel\n"
     ]
    },
    {
     "data": {
      "text/plain": [
       "4"
      ]
     },
     "execution_count": 28,
     "metadata": {},
     "output_type": "execute_result"
    }
   ],
   "source": [
    "# Ques 9: Write a code to count the number of words in a string.\n",
    "\n",
    "# Ans 9:\n",
    "def words(str):\n",
    "    words_list = str.split(\" \")\n",
    "    return len(words_list)\n",
    "    \n",
    "input_string = input(\"Enter a string: \")\n",
    "words(input_string)"
   ]
  },
  {
   "cell_type": "code",
   "execution_count": null,
   "id": "e78f96ac-5da6-43ac-b346-85b09738ea64",
   "metadata": {},
   "outputs": [],
   "source": [
    "# Ques 10: Write a code to concatenate two strings without using the + operator.\n",
    "\n",
    "# Ans 10: \n",
    "def concatenate_strings(str1, str2):\n",
    "    return ''.join([str1, str2])\n",
    "\n",
    "string1 = input(\"Enter the first string: \")\n",
    "string2 = input(\"Enter the second string: \")\n",
    "\n",
    "result = concatenate_strings(string1, string2)\n",
    "print(\"Concatenated string:\", result)"
   ]
  },
  {
   "cell_type": "code",
   "execution_count": 29,
   "id": "6bd28bed-ef3d-42ac-b756-9910440beb58",
   "metadata": {},
   "outputs": [
    {
     "name": "stdin",
     "output_type": "stream",
     "text": [
      "Enter the list of elements (separated by spaces):  1 2 3 4\n",
      "Enter the element to remove:  1\n"
     ]
    },
    {
     "name": "stdout",
     "output_type": "stream",
     "text": [
      "List after removing occurrences of element: ['2', '3', '4']\n"
     ]
    }
   ],
   "source": [
    "# Ques 11: Write a code to remove all occurrences of a specific element from a list.\n",
    "\n",
    "# Ans 11:\n",
    "def remove_all_occurrences(lst, element):\n",
    "    return [x for x in lst if x != element]\n",
    "\n",
    "lst = input(\"Enter the list of elements (separated by spaces): \").split()\n",
    "element = input(\"Enter the element to remove: \")\n",
    "\n",
    "result = remove_all_occurrences(lst, element)\n",
    "print(\"List after removing occurrences of element:\", result)"
   ]
  },
  {
   "cell_type": "code",
   "execution_count": 31,
   "id": "6efa5e2d-9bca-41b4-93e8-432a6ec70bca",
   "metadata": {},
   "outputs": [
    {
     "name": "stdin",
     "output_type": "stream",
     "text": [
      "Enter the list of elements (separated by spaces):  2 4 8 7\n"
     ]
    },
    {
     "data": {
      "text/plain": [
       "'7'"
      ]
     },
     "execution_count": 31,
     "metadata": {},
     "output_type": "execute_result"
    }
   ],
   "source": [
    "# Ques 12: Implement a code to find the second largest number in a given list of integers.\n",
    "\n",
    "# Ans 12: \n",
    "def find_number(lst):\n",
    "    lst.sort()\n",
    "    return lst[-2]\n",
    "\n",
    "input_list = input(\"Enter the list of elements (separated by spaces): \").split()\n",
    "find_number(input_list)"
   ]
  },
  {
   "cell_type": "code",
   "execution_count": 40,
   "id": "5dd751b6-ae9c-4968-928b-08ce0ee107be",
   "metadata": {},
   "outputs": [
    {
     "name": "stdin",
     "output_type": "stream",
     "text": [
      "Enter the list of elements (separated by spaces):  1 4 6 6 1 4 8 7\n"
     ]
    },
    {
     "data": {
      "text/plain": [
       "{'1': 2, '4': 2, '6': 2, '8': 1, '7': 1}"
      ]
     },
     "execution_count": 40,
     "metadata": {},
     "output_type": "execute_result"
    }
   ],
   "source": [
    "# Ques 13: Create a code to count the occurrences of each element in a list and return a dictionary with elements as\n",
    "# keys and their counts as values.\n",
    "\n",
    "# Ans 13:\n",
    "def occurrences(lst):\n",
    "    empty_dic = {}\n",
    "    \n",
    "    for i in lst:\n",
    "        if i in empty_dic:\n",
    "            empty_dic[i] += 1\n",
    "\n",
    "        else:\n",
    "            empty_dic[i] = 1\n",
    "\n",
    "    return empty_dic\n",
    "\n",
    "input_list = input(\"Enter the list of elements (separated by spaces): \").split()\n",
    "occurrences(input_list)\n",
    "        "
   ]
  },
  {
   "cell_type": "code",
   "execution_count": 43,
   "id": "4ff5931b-f23b-46ad-9527-98520ab655d3",
   "metadata": {},
   "outputs": [
    {
     "name": "stdin",
     "output_type": "stream",
     "text": [
      "Enter the list of elements (separated by spaces):  1 2 3 4 5\n"
     ]
    },
    {
     "data": {
      "text/plain": [
       "['5', '4', '3', '2', '1']"
      ]
     },
     "execution_count": 43,
     "metadata": {},
     "output_type": "execute_result"
    }
   ],
   "source": [
    "# Ques 14: Write a code to reverse a list in-place without using any built-in reverse functions.\n",
    "\n",
    "# Ans 14: \n",
    "input_list = input(\"Enter the list of elements (separated by spaces): \").split()\n",
    "\n",
    "empty_list = []\n",
    "i = len(input_list) - 1\n",
    "while i >= 0: \n",
    "    empty_list.append(input_list[i])\n",
    "    i -= 1\n",
    "\n",
    "empty_list\n"
   ]
  },
  {
   "cell_type": "code",
   "execution_count": 44,
   "id": "681856f0-7e30-4973-9757-85127774bdfb",
   "metadata": {},
   "outputs": [
    {
     "name": "stdin",
     "output_type": "stream",
     "text": [
      "Enter the list of elements (separated by spaces):  1 2 3 4 3 2 4\n"
     ]
    },
    {
     "name": "stdout",
     "output_type": "stream",
     "text": [
      "List after removing duplicates: ['1', '2', '3', '4']\n"
     ]
    }
   ],
   "source": [
    "# Ques 15: Implement a code to find and remove duplicates from a list while preserving the original order of elements.\n",
    "\n",
    "# Ans 15: \n",
    "\n",
    "def remove_duplicates(lst):\n",
    "    seen = set()  \n",
    "    unique_list = []  \n",
    "    \n",
    "    for elem in lst:\n",
    "      \n",
    "        if elem not in seen:\n",
    "            unique_list.append(elem)\n",
    "            seen.add(elem)\n",
    "    \n",
    "    return unique_list\n",
    "\n",
    "lst = input(\"Enter the list of elements (separated by spaces): \").split()\n",
    "\n",
    "result = remove_duplicates(lst)\n",
    "\n",
    "print(\"List after removing duplicates:\", result)\n"
   ]
  },
  {
   "cell_type": "code",
   "execution_count": 50,
   "id": "07d232b2-e637-439b-9ff9-cb19597bd99f",
   "metadata": {},
   "outputs": [
    {
     "name": "stdin",
     "output_type": "stream",
     "text": [
      "Enter the list of elements (separated by spaces):  1 5 2 7\n"
     ]
    },
    {
     "name": "stdout",
     "output_type": "stream",
     "text": [
      "It is not sorted\n"
     ]
    }
   ],
   "source": [
    "# Ques 16: Create a code to check if a given list is sorted (either in ascending or descending order) or not.\n",
    "\n",
    "# Ans 16:\n",
    "lst = input(\"Enter the list of elements (separated by spaces): \").split()\n",
    "\n",
    "if lst == sorted(lst) or lst == sorted(lst, reverse = True):\n",
    "    print(\"It is sorted\")\n",
    "\n",
    "else:\n",
    "    print(\"It is not sorted\")\n"
   ]
  },
  {
   "cell_type": "code",
   "execution_count": 53,
   "id": "92582084-e722-40ec-8db5-92523e679757",
   "metadata": {},
   "outputs": [
    {
     "name": "stdin",
     "output_type": "stream",
     "text": [
      "Enter the list of elements (separated by spaces) for first list:  1 4 7 2\n",
      "Enter the list of elements (separated by spaces) for second list:  3 6 8 9\n"
     ]
    },
    {
     "data": {
      "text/plain": [
       "['1', '2', '3', '4', '6', '7', '8', '9']"
      ]
     },
     "execution_count": 53,
     "metadata": {},
     "output_type": "execute_result"
    }
   ],
   "source": [
    "# Ques 17: Write a code to merge two sorted lists into a single sorted list.\n",
    "\n",
    "# Ans 17: \n",
    "def sorted_list(lst1, lst2):\n",
    "    \n",
    "    lst1.sort()\n",
    "    lst2.sort()\n",
    "    \n",
    "    final_list = lst1 + lst2\n",
    "    return sorted(final_list)\n",
    "\n",
    "lst1 = input(\"Enter the list of elements (separated by spaces) for first list: \").split()\n",
    "lst2 = input(\"Enter the list of elements (separated by spaces) for second list: \").split()\n",
    "\n",
    "sorted_list(lst1, lst2)\n"
   ]
  },
  {
   "cell_type": "code",
   "execution_count": 87,
   "id": "9f04cbea-6e34-480f-90dc-8396c410f368",
   "metadata": {},
   "outputs": [
    {
     "name": "stdin",
     "output_type": "stream",
     "text": [
      "Enter the list of elements (separated by spaces) for the first list:  1 2 3 4 5\n",
      "Enter the list of elements (separated by spaces) for the second list:  4 5 6 7 8\n"
     ]
    },
    {
     "name": "stdout",
     "output_type": "stream",
     "text": [
      "Union of the two lists without duplicates: ['1', '2', '3', '4', '5', '6', '7', '8']\n"
     ]
    }
   ],
   "source": [
    "# Ques 18:  Implement a code to find the intersection of two given lists.\n",
    "\n",
    "# Ans 18:\n",
    "\n",
    "lst1 = input(\"Enter the list of elements (separated by spaces) for the first list: \").split()\n",
    "lst2 = input(\"Enter the list of elements (separated by spaces) for the second list: \").split()\n",
    "\n",
    "unique_lst = []\n",
    "\n",
    "for item in lst1:\n",
    "    if item not in unique_lst:\n",
    "        unique_lst.append(item)\n",
    "\n",
    "for item in lst2:\n",
    "    if item not in unique_lst:\n",
    "        unique_lst.append(item)\n",
    "\n",
    "print(\"Union of the two lists without duplicates:\", unique_lst)\n"
   ]
  },
  {
   "cell_type": "code",
   "execution_count": 65,
   "id": "85609b40-4544-4c24-86cb-ff184483b337",
   "metadata": {},
   "outputs": [
    {
     "name": "stdin",
     "output_type": "stream",
     "text": [
      "Enter the list of elements (separated by spaces) for first list:  1 3 5 7 9\n",
      "Enter the list of elements (separated by spaces) for second list:  1 2 3 4 5\n"
     ]
    },
    {
     "data": {
      "text/plain": [
       "['3', '9', '1', '5', '4', '7', '2']"
      ]
     },
     "execution_count": 65,
     "metadata": {},
     "output_type": "execute_result"
    }
   ],
   "source": [
    "# Ques 19: Create a code to find the union of two lists without duplicates.\n",
    "\n",
    "# Ans 19: \n",
    "\n",
    "def union_list(lst1, lst2):\n",
    "    a = set(lst1)\n",
    "    b = set(lst2)\n",
    "\n",
    "    union_set = a.union(b)\n",
    "    return list(union_set)\n",
    "    \n",
    "\n",
    "lst1 = input(\"Enter the list of elements (separated by spaces) for first list: \").split()\n",
    "lst2 = input(\"Enter the list of elements (separated by spaces) for second list: \").split()\n",
    "\n",
    "union_list(lst1, lst2)"
   ]
  },
  {
   "cell_type": "code",
   "execution_count": null,
   "id": "a59c8271-8f93-4825-8ead-815d86f1d4bd",
   "metadata": {},
   "outputs": [],
   "source": [
    "# Ques 20: Write a code to shuffle a given list randomlly without using any built-in shuffle functions.\n",
    "\n",
    "# Ans 20:\n",
    "import random\n",
    "\n",
    "def shuffle_list(lst):\n",
    "    n = len(lst)\n",
    "    for i in range(n):\n",
    "        rand_index = random.randint(0, n - 1)\n",
    "        lst[i], lst[rand_index] = lst[rand_index], lst[i]\n",
    "    return lst\n",
    "\n",
    "lst = input(\"Enter the list of elements (separated by spaces): \").split()\n",
    "\n",
    "shuffled_list = shuffle_list(lst)\n",
    "\n",
    "print(\"Shuffled List:\", shuffled_list)\n"
   ]
  },
  {
   "cell_type": "code",
   "execution_count": null,
   "id": "0901fd3c-6707-4c4b-9489-f67a435f3482",
   "metadata": {},
   "outputs": [],
   "source": [
    "# Ques 21: Write a code that takes two tuples as input and returns a new tuple containing elements that are common to both input tuples.\n",
    "\n",
    "# Ans 21: \n",
    "\n",
    "def common_elements(tuple1, tuple2):\n",
    " \n",
    "    common_set = set(tuple1).intersection(set(tuple2))\n",
    "    \n",
    "    return tuple(common_set)\n",
    "\n",
    "tuple1 = tuple(input(\"Enter the elements for the first tuple (separated by spaces): \").split())\n",
    "tuple2 = tuple(input(\"Enter the elements for the second tuple (separated by spaces): \").split())\n",
    "\n",
    "result = common_elements(tuple1, tuple2)\n",
    "\n",
    "print(\"Common elements as a new tuple:\", result)\n",
    "\n"
   ]
  },
  {
   "cell_type": "code",
   "execution_count": null,
   "id": "1b51bed4-b8b7-431d-9489-1d2b5645156a",
   "metadata": {},
   "outputs": [],
   "source": [
    "# Ques 22: Create a code that prompts the user to enter two sets of integers separated by commas. Then print the intersection of these two sets.\n",
    "\n",
    "# Ans 22:\n",
    "\n",
    "def find_intersection(set1, set2):\n",
    "\n",
    "    return set1.intersection(set2)\n",
    "\n",
    "set1 = set(map(int, input(\"Enter the first set of integers (separated by commas): \").split(',')))\n",
    "set2 = set(map(int, input(\"Enter the second set of integers (separated by commas): \").split(',')))\n",
    "\n",
    "intersection_result = find_intersection(set1, set2)\n",
    "\n",
    "print(\"The intersection of the two sets is:\", intersection_result)\n"
   ]
  },
  {
   "cell_type": "code",
   "execution_count": 68,
   "id": "78ec58d8-09f0-49b9-8fc5-1eb2e5ece365",
   "metadata": {},
   "outputs": [
    {
     "name": "stdin",
     "output_type": "stream",
     "text": [
      "Enter the elements for the first tuple (separated by spaces):  1 3 5 7\n",
      "Enter the elements for the second tuple (separated by spaces):  2 3 4 6\n"
     ]
    },
    {
     "data": {
      "text/plain": [
       "('1', '3', '5', '7', '2', '3', '4', '6')"
      ]
     },
     "execution_count": 68,
     "metadata": {},
     "output_type": "execute_result"
    }
   ],
   "source": [
    "# Ques 23: Write a code to conatenate two tuples. The function should take two tuples as input and return a new\n",
    "# tuple containing elements from both input tuples.\n",
    "\n",
    "tup1 = tuple(input(\"Enter the elements for the first tuple (separated by spaces): \").split())\n",
    "tup2 = tuple(input(\"Enter the elements for the second tuple (separated by spaces): \").split())\n",
    "\n",
    "final_tup = tup1+tup2\n",
    "final_tup\n"
   ]
  },
  {
   "cell_type": "code",
   "execution_count": 69,
   "id": "0779379f-acd5-46a1-a058-97d61eb99eb9",
   "metadata": {},
   "outputs": [
    {
     "name": "stdin",
     "output_type": "stream",
     "text": [
      "Enter the first set of integers (separated by spaces):  1 2 3 4 5\n",
      "Enter the second set of integers (separated by spaces):  1 2 6 7 8\n"
     ]
    },
    {
     "data": {
      "text/plain": [
       "{3, 4, 5}"
      ]
     },
     "execution_count": 69,
     "metadata": {},
     "output_type": "execute_result"
    }
   ],
   "source": [
    "# Ques 24: Develop a code that prompts the user to input two sets of strings. Then print the elements that are\n",
    "# present in the first set but not in the second set.\n",
    "\n",
    "# Ans 24:\n",
    "set1 = set(map(int, input(\"Enter the first set of integers (separated by spaces): \").split()))\n",
    "set2 = set(map(int, input(\"Enter the second set of integers (separated by spaces): \").split()))\n",
    "\n",
    "set1.difference(set2)\n"
   ]
  },
  {
   "cell_type": "code",
   "execution_count": 71,
   "id": "45e498f7-1f40-4d90-82f3-dc2ac2ed6e4d",
   "metadata": {},
   "outputs": [
    {
     "name": "stdin",
     "output_type": "stream",
     "text": [
      "Enter the elements for the tuple (separated by spaces):  1 2 3 4 5 6 7\n",
      "Enter the starting index:  1\n",
      "Enter the ending index (non-inclusive):  5\n"
     ]
    },
    {
     "data": {
      "text/plain": [
       "('2', '3', '4', '5')"
      ]
     },
     "execution_count": 71,
     "metadata": {},
     "output_type": "execute_result"
    }
   ],
   "source": [
    "# Ques 25: Create a code that takes a tuple and two integers as input. The function should return s new tuple\n",
    "# containing elements from the original tuple within the specified range of indices.\n",
    "\n",
    "# Ans 25:\n",
    "def tuple_slice(tup, start_idx, end_idx):\n",
    "    return tup[start_idx:end_idx]\n",
    "\n",
    "tup = tuple(input(\"Enter the elements for the tuple (separated by spaces): \").split())\n",
    "\n",
    "start_idx = int(input(\"Enter the starting index: \"))\n",
    "end_idx = int(input(\"Enter the ending index (non-inclusive): \"))\n",
    "\n",
    "sliced_tuple = tuple_slice(tup, start_idx, end_idx)\n",
    "\n",
    "sliced_tuple\n"
   ]
  },
  {
   "cell_type": "code",
   "execution_count": 72,
   "id": "74ba4dc6-8ed0-4d4a-afd9-e9b602f4d343",
   "metadata": {},
   "outputs": [
    {
     "name": "stdin",
     "output_type": "stream",
     "text": [
      "Enter the first set of characters (separated by commas):  1,2,3,4,5\n",
      "Enter the second set of characters (separated by commas):  3,4,5,6,7\n"
     ]
    },
    {
     "name": "stdout",
     "output_type": "stream",
     "text": [
      "Union of the two sets: {'3', '7', '1', '5', '4', '6', '2'}\n"
     ]
    }
   ],
   "source": [
    "# Ques 26: Write a code that prompts the user to input two sets of characters and then prints the union of these two sets.\n",
    "\n",
    "# Ans 26:\n",
    "def union_of_sets(set1, set2):\n",
    "\n",
    "    return set1.union(set2)\n",
    "\n",
    "set1 = set(input(\"Enter the first set of characters (separated by commas): \").split(','))\n",
    "set2 = set(input(\"Enter the second set of characters (separated by commas): \").split(','))\n",
    "\n",
    "union_result = union_of_sets(set1, set2)\n",
    "\n",
    "print(\"Union of the two sets:\", union_result)\n"
   ]
  },
  {
   "cell_type": "code",
   "execution_count": 73,
   "id": "49072390-2bee-4de5-99e0-83d64183995d",
   "metadata": {},
   "outputs": [
    {
     "name": "stdin",
     "output_type": "stream",
     "text": [
      "Enter the integers for the tuple (separated by spaces):  1 3 4 6 5\n"
     ]
    },
    {
     "name": "stdout",
     "output_type": "stream",
     "text": [
      "The minimum value is: 1\n",
      "The maximum value is: 6\n"
     ]
    }
   ],
   "source": [
    "# Ques 27: Develop a code that takes a tuple of integers as input. The function should return the maximum and minimum values from the tuple using tuple unpacking.\n",
    "\n",
    "# Ans 27: \n",
    "def min_max_tuple(tup):\n",
    "    min_val, max_val = min(tup), max(tup)\n",
    "    \n",
    "    return min_val, max_val\n",
    "\n",
    "tup = tuple(map(int, input(\"Enter the integers for the tuple (separated by spaces): \").split()))\n",
    "\n",
    "min_value, max_value = min_max_tuple(tup)\n",
    "\n",
    "print(f\"The minimum value is: {min_value}\")\n",
    "print(f\"The maximum value is: {max_value}\")"
   ]
  },
  {
   "cell_type": "code",
   "execution_count": 74,
   "id": "e6c41bb5-bb0c-4b0d-bf02-e22ec117abbd",
   "metadata": {},
   "outputs": [
    {
     "name": "stdin",
     "output_type": "stream",
     "text": [
      "Write the first set elements (seperated by spaces) 1 2 3 4 5\n",
      "Write the second set elements (seperated by spaces) 3 4 5 6 7\n"
     ]
    },
    {
     "name": "stdout",
     "output_type": "stream",
     "text": [
      "The union of two sets it {1, 2, 3, 4, 5, 6, 7}\n",
      "The intersection of two sets it {3, 4, 5}\n",
      "The difference of two sets it {1, 2}\n"
     ]
    }
   ],
   "source": [
    "# Ques 28: Create a code that defines two sets of integers. Then print the union, intersection, and difference of these two sets.\n",
    "\n",
    "# Ans 28:\n",
    "\n",
    "def sets_union(set1, set2):\n",
    "    \n",
    "    return set1.union(set2)\n",
    "\n",
    "def sets_intersection(set1, set2):\n",
    "    \n",
    "    return set1.intersection(set2)\n",
    "\n",
    "def sets_difference(set1, set2):\n",
    "    \n",
    "    return set1.difference(set2)\n",
    "\n",
    "set1 = set(map(int, input(\"Write the first set elements (seperated by spaces)\").split()))\n",
    "set2 = set(map(int, input(\"Write the second set elements (seperated by spaces)\").split()))\n",
    "\n",
    "set_union = sets_union(set1, set2)\n",
    "set_intersection = sets_intersection(set1, set2)\n",
    "set_difference = sets_difference(set1, set2)\n",
    "\n",
    "print(f\"The union of two sets it {set_union}\")\n",
    "print(f\"The intersection of two sets it {set_intersection}\")\n",
    "print(f\"The difference of two sets it {set_difference}\")"
   ]
  },
  {
   "cell_type": "code",
   "execution_count": 77,
   "id": "ca817534-7351-4a84-9557-2e24fcbde4b7",
   "metadata": {},
   "outputs": [
    {
     "name": "stdin",
     "output_type": "stream",
     "text": [
      "Write the tuple elements (seperated by spaces) 1 2 2 2 2 2 4\n",
      "Give the element 2\n"
     ]
    },
    {
     "name": "stdout",
     "output_type": "stream",
     "text": [
      "total number of occurrences of element is 5\n"
     ]
    }
   ],
   "source": [
    "# Ques 29: Write a code that takes a tuple and an element as input. The function should return the count of occurrences of the given element in the tuple.\n",
    "\n",
    "# Ans 29:\n",
    "\n",
    "def occurence(lst, ele):\n",
    "    return lst.count(ele)\n",
    "\n",
    "write_tuple = tuple(map(int, input(\"Write the tuple elements (seperated by spaces)\").split()))\n",
    "element = int(input(\"Give the element\"))\n",
    "\n",
    "list_tuple = list(write_tuple)\n",
    "\n",
    "occ = occurence(list_tuple, element)\n",
    "\n",
    "print(f\"total number of occurrences of element is {occ}\")"
   ]
  },
  {
   "cell_type": "code",
   "execution_count": 79,
   "id": "17bc9f12-c763-41ac-9ce9-ee2f086682b4",
   "metadata": {},
   "outputs": [
    {
     "name": "stdin",
     "output_type": "stream",
     "text": [
      "Enter the first set of strings (separated by commas):  1,2,3,4\n",
      "Enter the second set of strings (separated by commas):  3,4,5,6\n"
     ]
    },
    {
     "name": "stdout",
     "output_type": "stream",
     "text": [
      "The symmetric difference of the two sets is: {'5', '1', '6', '2'}\n"
     ]
    }
   ],
   "source": [
    "# Ques 30: Develop a code that prompts the user to input two sets of strings. Then print the symmetric difference of these two sets.\n",
    "\n",
    "# Ans 30:\n",
    "def symmetric_difference(set1, set2):\n",
    "    return set1.symmetric_difference(set2)\n",
    "\n",
    "set1 = set(input(\"Enter the first set of strings (separated by commas): \").split(','))\n",
    "set2 = set(input(\"Enter the second set of strings (separated by commas): \").split(','))\n",
    "\n",
    "sym_diff = symmetric_difference(set1, set2)\n",
    "\n",
    "print(\"The symmetric difference of the two sets is:\", sym_diff)"
   ]
  },
  {
   "cell_type": "code",
   "execution_count": 82,
   "id": "7461fe48-c56f-4910-9295-9a19333a4eea",
   "metadata": {},
   "outputs": [
    {
     "name": "stdin",
     "output_type": "stream",
     "text": [
      "Enter the list of elements (separated by spaces):  and we we and all\n"
     ]
    },
    {
     "data": {
      "text/plain": [
       "{'and': 2, 'we': 2, 'all': 1}"
      ]
     },
     "execution_count": 82,
     "metadata": {},
     "output_type": "execute_result"
    }
   ],
   "source": [
    "# Ques 31: Write a code that takes a list of words as input and returns a dictionary where the keys are unique words and the values are the frequencies of those words in the input list.\n",
    "\n",
    "# Ans 31:\n",
    "def dic(lst):\n",
    "    empty_dic = {}\n",
    "    for i in lst:\n",
    "        if i in empty_dic:\n",
    "            empty_dic[i] += 1\n",
    "\n",
    "        else:\n",
    "            empty_dic[i] = 1\n",
    "    return empty_dic\n",
    "\n",
    "lst = input(\"Enter the list of elements (separated by spaces): \").split()\n",
    "dic(lst)\n",
    "        "
   ]
  },
  {
   "cell_type": "code",
   "execution_count": 85,
   "id": "4cb5c4ed-4729-45ec-96ea-2b815b6f8236",
   "metadata": {},
   "outputs": [
    {
     "name": "stdin",
     "output_type": "stream",
     "text": [
      "Input the first dictionary {\"a\" : 3, \"b\" : 2}\n",
      "Input the second dictionary {\"a\" : 5, \"c\" : 2}\n"
     ]
    },
    {
     "data": {
      "text/plain": [
       "{'a': 8, 'b': 2, 'c': 2}"
      ]
     },
     "execution_count": 85,
     "metadata": {},
     "output_type": "execute_result"
    }
   ],
   "source": [
    "# Ques 32: Write a code that takes two dictionaries as input and merges them into a single dictionary. If there are common keys, the values should be added together.\n",
    "\n",
    "# Ans 32: \n",
    "def new_dic(dic1, dic2):\n",
    "    merge_dic = dic1.copy()\n",
    "\n",
    "    for key,value in dic2.items():\n",
    "        if key in merge_dic:\n",
    "            merge_dic[key] += value\n",
    "\n",
    "        else:\n",
    "            merge_dic[key] = value\n",
    "\n",
    "    return merge_dic\n",
    "\n",
    "dic1 = eval(input(\"Input the first dictionary\"))\n",
    "dic2 = eval(input(\"Input the second dictionary\"))\n",
    "\n",
    "new_dic(dic1,dic2)\n"
   ]
  },
  {
   "cell_type": "code",
   "execution_count": null,
   "id": "61efa400-0159-4126-9732-cd5e18ed3edb",
   "metadata": {},
   "outputs": [],
   "source": [
    "# Ques 33: Write a code to access a value in a nested dictionary. The function should take the dictionary and a list of keys \n",
    "# as input and return the corresponding value. If any of the keys do not exist in the dictionary, the function should return None.\n",
    "\n",
    "# Ans 33;\n",
    "def access_nested_dict(nested_dict, keys_list):\n",
    "    current_value = nested_dict\n",
    "    for key in keys_list:\n",
    "        if isinstance(current_value, dict) and key in current_value:\n",
    "            current_value = current_value[key]\n",
    "        else:\n",
    "            return None\n",
    "    return current_value\n",
    "\n",
    "nested_dict = eval(input(\"Enter the nested dictionary (e.g., {'a': {'b': {'c': 3}}}): \"))\n",
    "keys_list = input(\"Enter the list of keys (separated by spaces, e.g., 'a b c'): \").split()\n",
    "\n",
    "result = access_nested_dict(nested_dict, keys_list)\n",
    "\n",
    "print(\"Corresponding value:\", result)"
   ]
  },
  {
   "cell_type": "code",
   "execution_count": null,
   "id": "1e1f67a9-cebb-4b43-b62d-b670d7057f82",
   "metadata": {},
   "outputs": [],
   "source": [
    "# Ques 34: Write a code that takes a dictionary as input and returns a sorted version of it based on the values. You can choose\n",
    "# whether to sort in ascending or descending order.\n",
    "\n",
    "# Ans 34: \n",
    "def sort_dict_by_values(d, ascending=True):\n",
    "   \n",
    "    return dict(sorted(d.items(), key=lambda item: item[1], reverse=not ascending))\n",
    "\n",
    "d = eval(input(\"Enter the dictionary (e.g., {'a': 5, 'b': 2, 'c': 3}): \"))\n",
    "\n",
    "order = input(\"Do you want to sort in ascending order? (yes/no): \").lower()\n",
    "\n",
    "if order == 'yes':\n",
    "    sorted_dict = sort_dict_by_values(d, ascending=True)\n",
    "else:\n",
    "    sorted_dict = sort_dict_by_values(d, ascending=False)\n",
    "\n",
    "print(\"Sorted Dictionary:\", sorted_dict)"
   ]
  },
  {
   "cell_type": "code",
   "execution_count": 86,
   "id": "5c2fe3be-52d5-4f89-b8e4-b9fc04cc0f03",
   "metadata": {},
   "outputs": [
    {
     "name": "stdin",
     "output_type": "stream",
     "text": [
      "Enter the dictionary (e.g., {'a': 1, 'b': 2, 'c': 1}):  {'a': 1, 'b': 2, 'c': 1}\n"
     ]
    },
    {
     "name": "stdout",
     "output_type": "stream",
     "text": [
      "Inverted Dictionary: {1: ['a', 'c'], 2: 'b'}\n"
     ]
    }
   ],
   "source": [
    "# Ques 35: Write a code that inverts a dictionary by swapping keys and values. Ensure that the inverted dictionary correctly handles \n",
    "# cases where multiple keys have the same value by storing the keys as a list in the inverted dictionary.\n",
    "\n",
    "# Ans 35:\n",
    "def invert_dict(d):\n",
    "    inverted_dict = {}\n",
    "    \n",
    "    for key, value in d.items():\n",
    "        if value in inverted_dict:\n",
    "            if isinstance(inverted_dict[value], list):\n",
    "                inverted_dict[value].append(key)\n",
    "            else:\n",
    "                inverted_dict[value] = [inverted_dict[value], key] \n",
    "        else:\n",
    "        \n",
    "            inverted_dict[value] = key\n",
    "\n",
    "    return inverted_dict\n",
    "\n",
    "d = eval(input(\"Enter the dictionary (e.g., {'a': 1, 'b': 2, 'c': 1}): \"))\n",
    "\n",
    "result = invert_dict(d)\n",
    "\n",
    "print(\"Inverted Dictionary:\", result)\n"
   ]
  },
  {
   "cell_type": "code",
   "execution_count": null,
   "id": "67f3e5ef-09ae-4948-92f5-87de01059ada",
   "metadata": {},
   "outputs": [],
   "source": []
  }
 ],
 "metadata": {
  "kernelspec": {
   "display_name": "Python 3 (ipykernel)",
   "language": "python",
   "name": "python3"
  },
  "language_info": {
   "codemirror_mode": {
    "name": "ipython",
    "version": 3
   },
   "file_extension": ".py",
   "mimetype": "text/x-python",
   "name": "python",
   "nbconvert_exporter": "python",
   "pygments_lexer": "ipython3",
   "version": "3.12.4"
  }
 },
 "nbformat": 4,
 "nbformat_minor": 5
}
